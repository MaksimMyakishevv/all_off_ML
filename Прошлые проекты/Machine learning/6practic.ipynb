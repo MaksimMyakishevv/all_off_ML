{
 "cells": [
  {
   "cell_type": "code",
   "execution_count": 61,
   "metadata": {
    "collapsed": false,
    "pycharm": {
     "name": "#%%\n"
    }
   },
   "outputs": [],
   "source": [
    "import torch\n",
    "import torch.nn as nn\n",
    "from torchvision import datasets, transforms\n",
    "import torch.optim as optim\n",
    "import torch.nn.functional as F\n",
    "from PIL import Image\n",
    "import os"
   ]
  },
  {
   "cell_type": "code",
   "execution_count": 62,
   "metadata": {
    "collapsed": false,
    "pycharm": {
     "name": "#%%\n"
    }
   },
   "outputs": [],
   "source": [
    "device=\"cuda\" if torch.cuda.is_available() else \"cpu\""
   ]
  },
  {
   "cell_type": "code",
   "execution_count": 63,
   "metadata": {
    "collapsed": false,
    "pycharm": {
     "name": "#%%\n"
    }
   },
   "outputs": [],
   "source": [
    "transform = transforms.Compose([\n",
    "    transforms.Resize((224, 224)),\n",
    "    transforms.Grayscale(),\n",
    "    transforms.ToTensor()\n",
    "])"
   ]
  },
  {
   "cell_type": "code",
   "execution_count": 64,
   "metadata": {
    "collapsed": false,
    "pycharm": {
     "name": "#%%\n"
    }
   },
   "outputs": [],
   "source": [
    "lr =0.001\n",
    "batch_size=100\n",
    "epochs = 10"
   ]
  },
  {
   "cell_type": "code",
   "execution_count": 65,
   "metadata": {
    "collapsed": false,
    "pycharm": {
     "name": "#%%\n"
    }
   },
   "outputs": [],
   "source": [
    "# Load train and test data\n",
    "train_dir = r'C:\\PetImages'\n",
    "import glob\n",
    "\n",
    "#train_list = glob.glob(os.path.join(train_dir,'*.jpg')) # LINUX\n",
    "train_list = []\n",
    "\n",
    "for path, currentDirectory, files in os.walk(train_dir):\n",
    "    for file in files:\n",
    "        train_list.append(os.path.join(path, file))\n"
   ]
  },
  {
   "cell_type": "code",
   "execution_count": 66,
   "metadata": {
    "collapsed": false,
    "pycharm": {
     "name": "#%%\n"
    }
   },
   "outputs": [],
   "source": [
    "class dataset(torch.utils.data.Dataset):\n",
    "    def __init__(self,file_list,transform = None):\n",
    "        self.file_list=file_list\n",
    "        self.transform=transform\n",
    "\n",
    "    def __len__(self):\n",
    "        self.filelength =len(self.file_list)\n",
    "        return self.filelength\n",
    "\n",
    "    def __getitem__(self,idx):\n",
    "        img_path =self.file_list[idx]\n",
    "        img = Image.open(img_path)\n",
    "        img_transformed = self.transform(img)\n",
    "\n",
    "        label = os.path.split(os.path.split(img_path)[-2])[-1]\n",
    "        if label == 'Dog':\n",
    "            label = torch.tensor(1)\n",
    "        elif label == 'Cat':\n",
    "            label = torch.tensor(0)\n",
    "\n",
    "        return img_transformed,label"
   ]
  },
  {
   "cell_type": "code",
   "execution_count": 67,
   "metadata": {
    "collapsed": false,
    "pycharm": {
     "name": "#%%\n"
    }
   },
   "outputs": [],
   "source": [
    "from sklearn.model_selection import train_test_split\n",
    "train_list,val_list = train_test_split(train_list , test_size =0.2)"
   ]
  },
  {
   "cell_type": "code",
   "execution_count": 68,
   "metadata": {
    "collapsed": false,
    "pycharm": {
     "name": "#%%\n"
    }
   },
   "outputs": [],
   "source": [
    "train_data = dataset(train_list,transform=transform)\n",
    "val_data = dataset(val_list,transform=transform)"
   ]
  },
  {
   "cell_type": "code",
   "execution_count": 69,
   "metadata": {
    "collapsed": false,
    "pycharm": {
     "name": "#%%\n"
    }
   },
   "outputs": [],
   "source": [
    "train_loader = torch.utils.data.DataLoader(dataset = train_data, batch_size = batch_size,shuffle = True)\n",
    "val_loader = torch.utils.data.DataLoader(dataset = val_data, batch_size = batch_size,shuffle = True)"
   ]
  },
  {
   "cell_type": "code",
   "execution_count": 70,
   "metadata": {
    "collapsed": false,
    "pycharm": {
     "name": "#%%\n"
    }
   },
   "outputs": [],
   "source": [
    "class Cnn(nn.Module):\n",
    "    def __init__(self):\n",
    "        super(Cnn,self).__init__()\n",
    "\n",
    "        self.layer1 = nn.Sequential(\n",
    "            nn.Conv2d(1,16,kernel_size=3,padding=0,stride=2),\n",
    "            nn.BatchNorm2d(16),\n",
    "            nn.ReLU(),\n",
    "            nn.MaxPool2d(2)\n",
    "        )\n",
    "\n",
    "        self.layer2 = nn.Sequential(\n",
    "            nn.Conv2d(16,32,kernel_size=3,padding=0,stride=2),\n",
    "            nn.BatchNorm2d(32),\n",
    "            nn.ReLU(),\n",
    "            nn.MaxPool2d(2)\n",
    "\n",
    "        )\n",
    "\n",
    "\n",
    "        self.layer3 = nn.Sequential(\n",
    "            nn.Conv2d(32,64,kernel_size=3,padding=0,stride=2),\n",
    "            nn.BatchNorm2d(64),\n",
    "            nn.ReLU(),\n",
    "            nn.MaxPool2d(2)\n",
    "\n",
    "        )\n",
    "\n",
    "        self.fc1 = nn.Linear(3*3*64,10)\n",
    "        self.dropout = nn.Dropout(0.5)\n",
    "        self.fc2 = nn.Linear(10,2)\n",
    "        self.relu = nn.ReLU()\n",
    "\n",
    "    def forward(self,x):\n",
    "        out =self.layer1(x)\n",
    "        out =self.layer2(out)\n",
    "        out =self.layer3(out)\n",
    "        out =out.view(out.size(0),-1)\n",
    "        out =self.relu(self.fc1(out))\n",
    "        out =self.fc2(out)\n",
    "        return out\n"
   ]
  },
  {
   "cell_type": "code",
   "execution_count": 71,
   "metadata": {
    "collapsed": false,
    "pycharm": {
     "name": "#%%\n"
    }
   },
   "outputs": [],
   "source": [
    "model = Cnn().to(device)\n",
    "model.train()\n",
    "optimizer = optim.Adam(params = model.parameters(),lr =0.001)\n",
    "criterion = nn.CrossEntropyLoss()"
   ]
  },
  {
   "cell_type": "code",
   "execution_count": 72,
   "metadata": {
    "collapsed": false,
    "pycharm": {
     "name": "#%%\n"
    }
   },
   "outputs": [
    {
     "name": "stdout",
     "output_type": "stream",
     "text": [
      "Epoch : 1, train accuracy : 0.7194777727127075, train loss : 0.5476154685020447\n",
      "Epoch : 1, val_accuracy : 0.7670000195503235, val_loss : 0.4899088144302368\n",
      "Epoch : 2, train accuracy : 0.8034756779670715, train loss : 0.42978644371032715\n",
      "Epoch : 2, val_accuracy : 0.8125999569892883, val_loss : 0.4204321801662445\n",
      "Epoch : 3, train accuracy : 0.8315406441688538, train loss : 0.37939396500587463\n",
      "Epoch : 3, val_accuracy : 0.8014000058174133, val_loss : 0.43539121747016907\n",
      "Epoch : 4, train accuracy : 0.8533896207809448, train loss : 0.3368593454360962\n",
      "Epoch : 4, val_accuracy : 0.8043999671936035, val_loss : 0.42775052785873413\n",
      "Epoch : 5, train accuracy : 0.871738851070404, train loss : 0.2997022271156311\n",
      "Epoch : 5, val_accuracy : 0.8159997463226318, val_loss : 0.41249415278434753\n",
      "Epoch : 6, train accuracy : 0.8913886547088623, train loss : 0.2623632252216339\n",
      "Epoch : 6, val_accuracy : 0.81659996509552, val_loss : 0.4164029657840729\n",
      "Epoch : 7, train accuracy : 0.9033895134925842, train loss : 0.23219655454158783\n",
      "Epoch : 7, val_accuracy : 0.8107999563217163, val_loss : 0.4390038251876831\n",
      "Epoch : 8, train accuracy : 0.9241414666175842, train loss : 0.19086767733097076\n",
      "Epoch : 8, val_accuracy : 0.8272000551223755, val_loss : 0.4280843734741211\n",
      "Epoch : 9, train accuracy : 0.9365890026092529, train loss : 0.16420555114746094\n",
      "Epoch : 9, val_accuracy : 0.8189999461174011, val_loss : 0.48383286595344543\n",
      "Epoch : 10, train accuracy : 0.9454960823059082, train loss : 0.144439697265625\n",
      "Epoch : 10, val_accuracy : 0.8114000558853149, val_loss : 0.5187495350837708\n"
     ]
    }
   ],
   "source": [
    "epochs = 10\n",
    "\n",
    "for epoch in range(epochs):\n",
    "    epoch_loss =0\n",
    "    epoch_accuracy = 0\n",
    "\n",
    "    for data,label in train_loader:\n",
    "        data= data.to(device)\n",
    "        label = label.to(device)\n",
    "\n",
    "        output = model(data)\n",
    "        loss = criterion(output,label)\n",
    "\n",
    "        optimizer.zero_grad()\n",
    "        loss.backward()\n",
    "        optimizer.step()\n",
    "\n",
    "        acc = ((output.argmax(dim=1)==label).float().mean())\n",
    "        epoch_accuracy += acc/len(train_loader)\n",
    "        epoch_loss += loss/len(train_loader)\n",
    "\n",
    "    print('Epoch : {}, train accuracy : {}, train loss : {}'.format(epoch+1, epoch_accuracy,epoch_loss))\n",
    "\n",
    "    with torch.no_grad():\n",
    "        epoch_val_accuracy =0\n",
    "        epoch_val_loss = 0\n",
    "        for data,label in  val_loader:\n",
    "            data= data.to(device)\n",
    "\n",
    "            label = label.to(device)\n",
    "\n",
    "            val_output = model(data)\n",
    "            val_loss = criterion(val_output,label)\n",
    "\n",
    "\n",
    "            acc = ((val_output.argmax(dim=1)==label).float().mean())\n",
    "            epoch_val_accuracy += acc/len(val_loader)\n",
    "            epoch_val_loss += val_loss/len(val_loader)\n",
    "        print('Epoch : {}, val_accuracy : {}, val_loss : {}'.format(epoch+1, epoch_val_accuracy,epoch_val_loss))\n"
   ]
  },
  {
   "cell_type": "code",
   "execution_count": null,
   "metadata": {
    "collapsed": false,
    "pycharm": {
     "name": "#%%\n"
    }
   },
   "outputs": [],
   "source": []
  }
 ],
 "metadata": {
  "kernelspec": {
   "display_name": "Python 3",
   "language": "python",
   "name": "python3"
  },
  "language_info": {
   "codemirror_mode": {
    "name": "ipython",
    "version": 3
   },
   "file_extension": ".py",
   "mimetype": "text/x-python",
   "name": "python",
   "nbconvert_exporter": "python",
   "pygments_lexer": "ipython3",
   "version": "3.10.7"
  }
 },
 "nbformat": 4,
 "nbformat_minor": 0
}
